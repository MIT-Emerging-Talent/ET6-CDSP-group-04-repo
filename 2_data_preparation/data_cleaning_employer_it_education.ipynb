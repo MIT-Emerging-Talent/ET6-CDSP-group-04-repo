{
 "cells": [
  {
   "cell_type": "markdown",
   "id": "oKL9h5FG4eh1",
   "metadata": {
    "id": "oKL9h5FG4eh1"
   },
   "source": [
    "[![Open In Colab](https://colab.research.google.com/assets/colab-badge.svg)](https://colab.research.google.com/github/MIT-Emerging-Talent/ET6-CDSP-group-04-repo/blob/main/2_data_preparation/data_cleaning_employer_it_education_olubusayo.ipynb)\n"
   ]
  },
  {
   "cell_type": "markdown",
   "id": "1c9cf50f",
   "metadata": {
    "id": "1c9cf50f"
   },
   "source": [
    "# 🧹 Data Cleaning – Employer IT Education Perspectives\n",
    "\n",
    "**Contributor:** Yuri Spizhovyi, Olubusayo Solola\n"
   ]
  },
  {
   "cell_type": "markdown",
   "id": "70792a72",
   "metadata": {
    "id": "70792a72"
   },
   "source": [
    "## 📥 Step 1: Load the Raw Dataset"
   ]
  },
  {
   "cell_type": "code",
   "execution_count": 8,
   "id": "75146801",
   "metadata": {
    "colab": {
     "base_uri": "https://localhost:8080/",
     "height": 206
    },
    "id": "75146801",
    "outputId": "83abebe4-59e0-4ce6-e131-17e4923f3b45"
   },
   "outputs": [
    {
     "data": {
      "application/vnd.google.colaboratory.intrinsic+json": {
       "summary": "{\n  \"name\": \"df\",\n  \"rows\": 150,\n  \"fields\": [\n    {\n      \"column\": \"Company Sector\",\n      \"properties\": {\n        \"dtype\": \"category\",\n        \"num_unique_values\": 9,\n        \"samples\": [\n          \"Government\",\n          \"Consulting\",\n          \"Retail\"\n        ],\n        \"semantic_type\": \"\",\n        \"description\": \"\"\n      }\n    },\n    {\n      \"column\": \"Preferred Candidate Background\",\n      \"properties\": {\n        \"dtype\": \"category\",\n        \"num_unique_values\": 3,\n        \"samples\": [\n          \"Online\\u2011only\",\n          \"College\",\n          \"Bootcamp\"\n        ],\n        \"semantic_type\": \"\",\n        \"description\": \"\"\n      }\n    },\n    {\n      \"column\": \"Willing to Hire Without Degree?\",\n      \"properties\": {\n        \"dtype\": \"category\",\n        \"num_unique_values\": 2,\n        \"samples\": [\n          \"No\",\n          \"Yes\"\n        ],\n        \"semantic_type\": \"\",\n        \"description\": \"\"\n      }\n    },\n    {\n      \"column\": \"Most Valued Program Feature\",\n      \"properties\": {\n        \"dtype\": \"category\",\n        \"num_unique_values\": 3,\n        \"samples\": [\n          \"Mentorship\",\n          \"Internship\"\n        ],\n        \"semantic_type\": \"\",\n        \"description\": \"\"\n      }\n    },\n    {\n      \"column\": \"Employer Satisfaction Score\",\n      \"properties\": {\n        \"dtype\": \"number\",\n        \"std\": 1,\n        \"min\": 3,\n        \"max\": 10,\n        \"num_unique_values\": 8,\n        \"samples\": [\n          9,\n          10\n        ],\n        \"semantic_type\": \"\",\n        \"description\": \"\"\n      }\n    },\n    {\n      \"column\": \"Top Hiring Concern\",\n      \"properties\": {\n        \"dtype\": \"category\",\n        \"num_unique_values\": 3,\n        \"samples\": [\n          \"Job Readiness\",\n          \"Communication\"\n        ],\n        \"semantic_type\": \"\",\n        \"description\": \"\"\n      }\n    }\n  ]\n}",
       "type": "dataframe",
       "variable_name": "df"
      },
      "text/html": [
       "\n",
       "  <div id=\"df-4cfe5138-1b38-4ca8-86c1-d0009579f7f6\" class=\"colab-df-container\">\n",
       "    <div>\n",
       "<style scoped>\n",
       "    .dataframe tbody tr th:only-of-type {\n",
       "        vertical-align: middle;\n",
       "    }\n",
       "\n",
       "    .dataframe tbody tr th {\n",
       "        vertical-align: top;\n",
       "    }\n",
       "\n",
       "    .dataframe thead th {\n",
       "        text-align: right;\n",
       "    }\n",
       "</style>\n",
       "<table border=\"1\" class=\"dataframe\">\n",
       "  <thead>\n",
       "    <tr style=\"text-align: right;\">\n",
       "      <th></th>\n",
       "      <th>Company Sector</th>\n",
       "      <th>Preferred Candidate Background</th>\n",
       "      <th>Willing to Hire Without Degree?</th>\n",
       "      <th>Most Valued Program Feature</th>\n",
       "      <th>Employer Satisfaction Score</th>\n",
       "      <th>Top Hiring Concern</th>\n",
       "    </tr>\n",
       "  </thead>\n",
       "  <tbody>\n",
       "    <tr>\n",
       "      <th>0</th>\n",
       "      <td>Tech</td>\n",
       "      <td>Online‑only</td>\n",
       "      <td>Yes</td>\n",
       "      <td>Mentorship</td>\n",
       "      <td>8</td>\n",
       "      <td>Job Readiness</td>\n",
       "    </tr>\n",
       "    <tr>\n",
       "      <th>1</th>\n",
       "      <td>Consulting</td>\n",
       "      <td>Online‑only</td>\n",
       "      <td>Yes</td>\n",
       "      <td>Internship</td>\n",
       "      <td>8</td>\n",
       "      <td>Job Readiness</td>\n",
       "    </tr>\n",
       "    <tr>\n",
       "      <th>2</th>\n",
       "      <td>Finance</td>\n",
       "      <td>Online‑only</td>\n",
       "      <td>No</td>\n",
       "      <td>Internship</td>\n",
       "      <td>9</td>\n",
       "      <td>Communication</td>\n",
       "    </tr>\n",
       "    <tr>\n",
       "      <th>3</th>\n",
       "      <td>Non‑profit</td>\n",
       "      <td>College</td>\n",
       "      <td>No</td>\n",
       "      <td>Job Guarantee</td>\n",
       "      <td>6</td>\n",
       "      <td>Technical Gaps</td>\n",
       "    </tr>\n",
       "    <tr>\n",
       "      <th>4</th>\n",
       "      <td>Consulting</td>\n",
       "      <td>Bootcamp</td>\n",
       "      <td>No</td>\n",
       "      <td>Internship</td>\n",
       "      <td>7</td>\n",
       "      <td>Job Readiness</td>\n",
       "    </tr>\n",
       "  </tbody>\n",
       "</table>\n",
       "</div>\n",
       "    <div class=\"colab-df-buttons\">\n",
       "\n",
       "  <div class=\"colab-df-container\">\n",
       "    <button class=\"colab-df-convert\" onclick=\"convertToInteractive('df-4cfe5138-1b38-4ca8-86c1-d0009579f7f6')\"\n",
       "            title=\"Convert this dataframe to an interactive table.\"\n",
       "            style=\"display:none;\">\n",
       "\n",
       "  <svg xmlns=\"http://www.w3.org/2000/svg\" height=\"24px\" viewBox=\"0 -960 960 960\">\n",
       "    <path d=\"M120-120v-720h720v720H120Zm60-500h600v-160H180v160Zm220 220h160v-160H400v160Zm0 220h160v-160H400v160ZM180-400h160v-160H180v160Zm440 0h160v-160H620v160ZM180-180h160v-160H180v160Zm440 0h160v-160H620v160Z\"/>\n",
       "  </svg>\n",
       "    </button>\n",
       "\n",
       "  <style>\n",
       "    .colab-df-container {\n",
       "      display:flex;\n",
       "      gap: 12px;\n",
       "    }\n",
       "\n",
       "    .colab-df-convert {\n",
       "      background-color: #E8F0FE;\n",
       "      border: none;\n",
       "      border-radius: 50%;\n",
       "      cursor: pointer;\n",
       "      display: none;\n",
       "      fill: #1967D2;\n",
       "      height: 32px;\n",
       "      padding: 0 0 0 0;\n",
       "      width: 32px;\n",
       "    }\n",
       "\n",
       "    .colab-df-convert:hover {\n",
       "      background-color: #E2EBFA;\n",
       "      box-shadow: 0px 1px 2px rgba(60, 64, 67, 0.3), 0px 1px 3px 1px rgba(60, 64, 67, 0.15);\n",
       "      fill: #174EA6;\n",
       "    }\n",
       "\n",
       "    .colab-df-buttons div {\n",
       "      margin-bottom: 4px;\n",
       "    }\n",
       "\n",
       "    [theme=dark] .colab-df-convert {\n",
       "      background-color: #3B4455;\n",
       "      fill: #D2E3FC;\n",
       "    }\n",
       "\n",
       "    [theme=dark] .colab-df-convert:hover {\n",
       "      background-color: #434B5C;\n",
       "      box-shadow: 0px 1px 3px 1px rgba(0, 0, 0, 0.15);\n",
       "      filter: drop-shadow(0px 1px 2px rgba(0, 0, 0, 0.3));\n",
       "      fill: #FFFFFF;\n",
       "    }\n",
       "  </style>\n",
       "\n",
       "    <script>\n",
       "      const buttonEl =\n",
       "        document.querySelector('#df-4cfe5138-1b38-4ca8-86c1-d0009579f7f6 button.colab-df-convert');\n",
       "      buttonEl.style.display =\n",
       "        google.colab.kernel.accessAllowed ? 'block' : 'none';\n",
       "\n",
       "      async function convertToInteractive(key) {\n",
       "        const element = document.querySelector('#df-4cfe5138-1b38-4ca8-86c1-d0009579f7f6');\n",
       "        const dataTable =\n",
       "          await google.colab.kernel.invokeFunction('convertToInteractive',\n",
       "                                                    [key], {});\n",
       "        if (!dataTable) return;\n",
       "\n",
       "        const docLinkHtml = 'Like what you see? Visit the ' +\n",
       "          '<a target=\"_blank\" href=https://colab.research.google.com/notebooks/data_table.ipynb>data table notebook</a>'\n",
       "          + ' to learn more about interactive tables.';\n",
       "        element.innerHTML = '';\n",
       "        dataTable['output_type'] = 'display_data';\n",
       "        await google.colab.output.renderOutput(dataTable, element);\n",
       "        const docLink = document.createElement('div');\n",
       "        docLink.innerHTML = docLinkHtml;\n",
       "        element.appendChild(docLink);\n",
       "      }\n",
       "    </script>\n",
       "  </div>\n",
       "\n",
       "\n",
       "    <div id=\"df-482d4534-9090-4ca3-ac34-5152c3050c85\">\n",
       "      <button class=\"colab-df-quickchart\" onclick=\"quickchart('df-482d4534-9090-4ca3-ac34-5152c3050c85')\"\n",
       "                title=\"Suggest charts\"\n",
       "                style=\"display:none;\">\n",
       "\n",
       "<svg xmlns=\"http://www.w3.org/2000/svg\" height=\"24px\"viewBox=\"0 0 24 24\"\n",
       "     width=\"24px\">\n",
       "    <g>\n",
       "        <path d=\"M19 3H5c-1.1 0-2 .9-2 2v14c0 1.1.9 2 2 2h14c1.1 0 2-.9 2-2V5c0-1.1-.9-2-2-2zM9 17H7v-7h2v7zm4 0h-2V7h2v10zm4 0h-2v-4h2v4z\"/>\n",
       "    </g>\n",
       "</svg>\n",
       "      </button>\n",
       "\n",
       "<style>\n",
       "  .colab-df-quickchart {\n",
       "      --bg-color: #E8F0FE;\n",
       "      --fill-color: #1967D2;\n",
       "      --hover-bg-color: #E2EBFA;\n",
       "      --hover-fill-color: #174EA6;\n",
       "      --disabled-fill-color: #AAA;\n",
       "      --disabled-bg-color: #DDD;\n",
       "  }\n",
       "\n",
       "  [theme=dark] .colab-df-quickchart {\n",
       "      --bg-color: #3B4455;\n",
       "      --fill-color: #D2E3FC;\n",
       "      --hover-bg-color: #434B5C;\n",
       "      --hover-fill-color: #FFFFFF;\n",
       "      --disabled-bg-color: #3B4455;\n",
       "      --disabled-fill-color: #666;\n",
       "  }\n",
       "\n",
       "  .colab-df-quickchart {\n",
       "    background-color: var(--bg-color);\n",
       "    border: none;\n",
       "    border-radius: 50%;\n",
       "    cursor: pointer;\n",
       "    display: none;\n",
       "    fill: var(--fill-color);\n",
       "    height: 32px;\n",
       "    padding: 0;\n",
       "    width: 32px;\n",
       "  }\n",
       "\n",
       "  .colab-df-quickchart:hover {\n",
       "    background-color: var(--hover-bg-color);\n",
       "    box-shadow: 0 1px 2px rgba(60, 64, 67, 0.3), 0 1px 3px 1px rgba(60, 64, 67, 0.15);\n",
       "    fill: var(--button-hover-fill-color);\n",
       "  }\n",
       "\n",
       "  .colab-df-quickchart-complete:disabled,\n",
       "  .colab-df-quickchart-complete:disabled:hover {\n",
       "    background-color: var(--disabled-bg-color);\n",
       "    fill: var(--disabled-fill-color);\n",
       "    box-shadow: none;\n",
       "  }\n",
       "\n",
       "  .colab-df-spinner {\n",
       "    border: 2px solid var(--fill-color);\n",
       "    border-color: transparent;\n",
       "    border-bottom-color: var(--fill-color);\n",
       "    animation:\n",
       "      spin 1s steps(1) infinite;\n",
       "  }\n",
       "\n",
       "  @keyframes spin {\n",
       "    0% {\n",
       "      border-color: transparent;\n",
       "      border-bottom-color: var(--fill-color);\n",
       "      border-left-color: var(--fill-color);\n",
       "    }\n",
       "    20% {\n",
       "      border-color: transparent;\n",
       "      border-left-color: var(--fill-color);\n",
       "      border-top-color: var(--fill-color);\n",
       "    }\n",
       "    30% {\n",
       "      border-color: transparent;\n",
       "      border-left-color: var(--fill-color);\n",
       "      border-top-color: var(--fill-color);\n",
       "      border-right-color: var(--fill-color);\n",
       "    }\n",
       "    40% {\n",
       "      border-color: transparent;\n",
       "      border-right-color: var(--fill-color);\n",
       "      border-top-color: var(--fill-color);\n",
       "    }\n",
       "    60% {\n",
       "      border-color: transparent;\n",
       "      border-right-color: var(--fill-color);\n",
       "    }\n",
       "    80% {\n",
       "      border-color: transparent;\n",
       "      border-right-color: var(--fill-color);\n",
       "      border-bottom-color: var(--fill-color);\n",
       "    }\n",
       "    90% {\n",
       "      border-color: transparent;\n",
       "      border-bottom-color: var(--fill-color);\n",
       "    }\n",
       "  }\n",
       "</style>\n",
       "\n",
       "      <script>\n",
       "        async function quickchart(key) {\n",
       "          const quickchartButtonEl =\n",
       "            document.querySelector('#' + key + ' button');\n",
       "          quickchartButtonEl.disabled = true;  // To prevent multiple clicks.\n",
       "          quickchartButtonEl.classList.add('colab-df-spinner');\n",
       "          try {\n",
       "            const charts = await google.colab.kernel.invokeFunction(\n",
       "                'suggestCharts', [key], {});\n",
       "          } catch (error) {\n",
       "            console.error('Error during call to suggestCharts:', error);\n",
       "          }\n",
       "          quickchartButtonEl.classList.remove('colab-df-spinner');\n",
       "          quickchartButtonEl.classList.add('colab-df-quickchart-complete');\n",
       "        }\n",
       "        (() => {\n",
       "          let quickchartButtonEl =\n",
       "            document.querySelector('#df-482d4534-9090-4ca3-ac34-5152c3050c85 button');\n",
       "          quickchartButtonEl.style.display =\n",
       "            google.colab.kernel.accessAllowed ? 'block' : 'none';\n",
       "        })();\n",
       "      </script>\n",
       "    </div>\n",
       "\n",
       "    </div>\n",
       "  </div>\n"
      ],
      "text/plain": [
       "  Company Sector Preferred Candidate Background  \\\n",
       "0           Tech                    Online‑only   \n",
       "1     Consulting                    Online‑only   \n",
       "2        Finance                    Online‑only   \n",
       "3     Non‑profit                        College   \n",
       "4     Consulting                       Bootcamp   \n",
       "\n",
       "  Willing to Hire Without Degree? Most Valued Program Feature  \\\n",
       "0                             Yes                  Mentorship   \n",
       "1                             Yes                  Internship   \n",
       "2                              No                  Internship   \n",
       "3                              No               Job Guarantee   \n",
       "4                              No                  Internship   \n",
       "\n",
       "   Employer Satisfaction Score Top Hiring Concern  \n",
       "0                            8      Job Readiness  \n",
       "1                            8      Job Readiness  \n",
       "2                            9      Communication  \n",
       "3                            6     Technical Gaps  \n",
       "4                            7      Job Readiness  "
      ]
     },
     "execution_count": 8,
     "metadata": {},
     "output_type": "execute_result"
    }
   ],
   "source": [
    "import pandas as pd\n",
    "\n",
    "# Load dataset\n",
    "df = pd.read_csv(\"raw_employer_it_education_perspectives.csv\")\n",
    "\n",
    "# Preview the first few rows\n",
    "df.head()"
   ]
  },
  {
   "cell_type": "markdown",
   "id": "ccbbc84a",
   "metadata": {
    "id": "ccbbc84a"
   },
   "source": [
    "### 📝 Initial Notes\n",
    "\n",
    "- The dataset loads correctly and contains 150 records.\n",
    "- It includes fields on employer preferences and satisfaction scores across education backgrounds.\n",
    "- No issues were encountered on loading the file.\n",
    "\n",
    "🔧 **Next step:** Check for data types and missing values."
   ]
  },
  {
   "cell_type": "markdown",
   "id": "620bad2f",
   "metadata": {
    "id": "620bad2f"
   },
   "source": [
    "## 🧼 Step 2: Inspect Data Types and Missing Values"
   ]
  },
  {
   "cell_type": "code",
   "execution_count": 9,
   "id": "732df630",
   "metadata": {
    "colab": {
     "base_uri": "https://localhost:8080/",
     "height": 505
    },
    "id": "732df630",
    "outputId": "9117350f-b586-4b57-b723-0444ef183df4"
   },
   "outputs": [
    {
     "name": "stdout",
     "output_type": "stream",
     "text": [
      "<class 'pandas.core.frame.DataFrame'>\n",
      "RangeIndex: 150 entries, 0 to 149\n",
      "Data columns (total 6 columns):\n",
      " #   Column                           Non-Null Count  Dtype \n",
      "---  ------                           --------------  ----- \n",
      " 0   Company Sector                   150 non-null    object\n",
      " 1   Preferred Candidate Background   150 non-null    object\n",
      " 2   Willing to Hire Without Degree?  150 non-null    object\n",
      " 3   Most Valued Program Feature      150 non-null    object\n",
      " 4   Employer Satisfaction Score      150 non-null    int64 \n",
      " 5   Top Hiring Concern               150 non-null    object\n",
      "dtypes: int64(1), object(5)\n",
      "memory usage: 7.2+ KB\n"
     ]
    },
    {
     "data": {
      "text/html": [
       "<div>\n",
       "<style scoped>\n",
       "    .dataframe tbody tr th:only-of-type {\n",
       "        vertical-align: middle;\n",
       "    }\n",
       "\n",
       "    .dataframe tbody tr th {\n",
       "        vertical-align: top;\n",
       "    }\n",
       "\n",
       "    .dataframe thead th {\n",
       "        text-align: right;\n",
       "    }\n",
       "</style>\n",
       "<table border=\"1\" class=\"dataframe\">\n",
       "  <thead>\n",
       "    <tr style=\"text-align: right;\">\n",
       "      <th></th>\n",
       "      <th>0</th>\n",
       "    </tr>\n",
       "  </thead>\n",
       "  <tbody>\n",
       "    <tr>\n",
       "      <th>Company Sector</th>\n",
       "      <td>0</td>\n",
       "    </tr>\n",
       "    <tr>\n",
       "      <th>Preferred Candidate Background</th>\n",
       "      <td>0</td>\n",
       "    </tr>\n",
       "    <tr>\n",
       "      <th>Willing to Hire Without Degree?</th>\n",
       "      <td>0</td>\n",
       "    </tr>\n",
       "    <tr>\n",
       "      <th>Most Valued Program Feature</th>\n",
       "      <td>0</td>\n",
       "    </tr>\n",
       "    <tr>\n",
       "      <th>Employer Satisfaction Score</th>\n",
       "      <td>0</td>\n",
       "    </tr>\n",
       "    <tr>\n",
       "      <th>Top Hiring Concern</th>\n",
       "      <td>0</td>\n",
       "    </tr>\n",
       "  </tbody>\n",
       "</table>\n",
       "</div><br><label><b>dtype:</b> int64</label>"
      ],
      "text/plain": [
       "Company Sector                     0\n",
       "Preferred Candidate Background     0\n",
       "Willing to Hire Without Degree?    0\n",
       "Most Valued Program Feature        0\n",
       "Employer Satisfaction Score        0\n",
       "Top Hiring Concern                 0\n",
       "dtype: int64"
      ]
     },
     "execution_count": 9,
     "metadata": {},
     "output_type": "execute_result"
    }
   ],
   "source": [
    "# View column data types and null counts\n",
    "df.info()\n",
    "df.isnull().sum()"
   ]
  },
  {
   "cell_type": "markdown",
   "id": "6dfcc332",
   "metadata": {
    "id": "6dfcc332"
   },
   "source": [
    "### 📝 Observations\n",
    "\n",
    "- All 6 columns are fully populated — no nulls detected.\n",
    "- Most columns are categorical except for satisfaction score, which is numeric.\n",
    "\n",
    "🔧 **Next step:** Normalize column names for consistency."
   ]
  },
  {
   "cell_type": "markdown",
   "id": "7fb418a4",
   "metadata": {
    "id": "7fb418a4"
   },
   "source": [
    "## 🧹 Step 3: Standardize Column Names"
   ]
  },
  {
   "cell_type": "code",
   "execution_count": 10,
   "id": "95927a26",
   "metadata": {
    "colab": {
     "base_uri": "https://localhost:8080/"
    },
    "id": "95927a26",
    "outputId": "4654512c-9a47-40d6-f07c-3d1c8147b3f1"
   },
   "outputs": [
    {
     "data": {
      "text/plain": [
       "Index(['company_sector', 'preferred_candidate_background',\n",
       "       'willing_to_hire_without_degree?', 'most_valued_program_feature',\n",
       "       'employer_satisfaction_score', 'top_hiring_concern'],\n",
       "      dtype='object')"
      ]
     },
     "execution_count": 10,
     "metadata": {},
     "output_type": "execute_result"
    }
   ],
   "source": [
    "# Normalize column names\n",
    "df.columns = df.columns.str.strip().str.lower().str.replace(\" \", \"_\")\n",
    "df.columns"
   ]
  },
  {
   "cell_type": "markdown",
   "id": "8237173e",
   "metadata": {
    "id": "8237173e"
   },
   "source": [
    "### 📝 Column Name Clean-Up\n",
    "\n",
    "- Replaced spaces with underscores and converted all column names to lowercase.\n",
    "- This improves readability and consistency across scripts.\n",
    "\n",
    "🔧 **Next step:** Examine unique values in text fields."
   ]
  },
  {
   "cell_type": "markdown",
   "id": "02354e48",
   "metadata": {
    "id": "02354e48"
   },
   "source": [
    "## 🔍 Step 4: Examine Unique Values in Categorical Columns"
   ]
  },
  {
   "cell_type": "code",
   "execution_count": 11,
   "id": "bafccbff",
   "metadata": {
    "colab": {
     "base_uri": "https://localhost:8080/"
    },
    "id": "bafccbff",
    "outputId": "30852962-708e-42ec-cc57-c4636f944c62"
   },
   "outputs": [
    {
     "name": "stdout",
     "output_type": "stream",
     "text": [
      "\n",
      "company_sector:\n",
      "['Tech' 'Consulting' 'Finance' 'Non‑profit' 'Education' 'Retail'\n",
      " 'Manufacturing' 'Government' 'Healthcare']\n",
      "\n",
      "preferred_candidate_background:\n",
      "['Online‑only' 'College' 'Bootcamp']\n",
      "\n",
      "willing_to_hire_without_degree?:\n",
      "['Yes' 'No']\n",
      "\n",
      "most_valued_program_feature:\n",
      "['Mentorship' 'Internship' 'Job Guarantee']\n",
      "\n",
      "top_hiring_concern:\n",
      "['Job Readiness' 'Communication' 'Technical Gaps']\n"
     ]
    }
   ],
   "source": [
    "# Show unique values in each object (string) column\n",
    "for col in df.select_dtypes(include=\"object\").columns:\n",
    "    print(f\"\\n{col}:\")\n",
    "    print(df[col].unique())"
   ]
  },
  {
   "cell_type": "markdown",
   "id": "5a43e9ac",
   "metadata": {
    "id": "5a43e9ac"
   },
   "source": [
    "### 📝 Categorical Review\n",
    "\n",
    "- Some casing differences and non-breaking characters may exist (e.g., in 'Online‑only').\n",
    "- We'll normalize text by stripping whitespace and standardizing capitalization.\n",
    "\n",
    "🔧 **Next step:** Apply basic text cleaning."
   ]
  },
  {
   "cell_type": "markdown",
   "id": "0c829aeb",
   "metadata": {
    "id": "0c829aeb"
   },
   "source": [
    "## ✏️ Step 5: Clean and Standardize Text Fields"
   ]
  },
  {
   "cell_type": "code",
   "execution_count": 12,
   "id": "a0e39a69",
   "metadata": {
    "colab": {
     "base_uri": "https://localhost:8080/"
    },
    "id": "a0e39a69",
    "outputId": "b2c1ebd5-a4be-445e-afe6-7264648c1c3d"
   },
   "outputs": [
    {
     "name": "stderr",
     "output_type": "stream",
     "text": [
      "/tmp/ipython-input-12-2236558944.py:2: FutureWarning: DataFrame.applymap has been deprecated. Use DataFrame.map instead.\n",
      "  df = df.applymap(lambda x: x.strip() if isinstance(x, str) else x)\n"
     ]
    }
   ],
   "source": [
    "# Strip spaces and fix text casing\n",
    "df = df.applymap(lambda x: x.strip() if isinstance(x, str) else x)\n",
    "df[\"willing_to_hire_without_degree?\"] = df[\n",
    "    \"willing_to_hire_without_degree?\"\n",
    "].str.capitalize()"
   ]
  },
  {
   "cell_type": "markdown",
   "id": "b6c9ef1f",
   "metadata": {
    "id": "b6c9ef1f"
   },
   "source": [
    "### 📝 Cleanup Actions\n",
    "\n",
    "- Stripped whitespace from all string fields.\n",
    "- Capitalized Yes/No field for consistent groupings.\n",
    "\n",
    "🔧 **Next step:** Save cleaned data for future analysis."
   ]
  },
  {
   "cell_type": "markdown",
   "id": "cc8ac9bd",
   "metadata": {
    "id": "cc8ac9bd"
   },
   "source": [
    "## 💾 Step 6: Export Cleaned Dataset"
   ]
  },
  {
   "cell_type": "code",
   "execution_count": 13,
   "id": "1e74f42c",
   "metadata": {
    "id": "1e74f42c"
   },
   "outputs": [],
   "source": [
    "# Save the cleaned dataset\n",
    "df.to_csv(\"cleaned_employer_perspectives_cleaned.csv\", index=False)"
   ]
  },
  {
   "cell_type": "markdown",
   "id": "58452f82",
   "metadata": {
    "id": "58452f82"
   },
   "source": [
    "### ✅ Final Notes\n",
    "\n",
    "- The cleaned dataset is now ready for exploration and analysis.\n",
    "- It has been saved to `data/cleaned/employer_perspectives_cleaned.csv`."
   ]
  },
  {
   "cell_type": "code",
   "execution_count": 13,
   "id": "srlt4BVb2tci",
   "metadata": {
    "id": "srlt4BVb2tci"
   },
   "outputs": [],
   "source": []
  }
 ],
 "metadata": {
  "colab": {
   "provenance": []
  },
  "kernelspec": {
   "display_name": "Python 3",
   "name": "python3"
  },
  "language_info": {
   "name": "python"
  }
 },
 "nbformat": 4,
 "nbformat_minor": 5
}
